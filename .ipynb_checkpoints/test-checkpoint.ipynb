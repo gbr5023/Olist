{
 "cells": [
  {
   "cell_type": "code",
   "execution_count": 7,
   "id": "542781fb-69be-47a8-802a-5bb75906e0a0",
   "metadata": {},
   "outputs": [],
   "source": [
    "\"\"\"\n",
    "-- Import Packages --\n",
    "\"\"\"\n",
    "import numpy as np\n",
    "import pandas as pd\n",
    "from postgresql_connection import db_connect\n",
    "import seaborn as sns\n",
    "import matplotlib.pyplot as plt\n",
    "import nltk\n",
    "import re\n",
    "import torch\n",
    "import torch.nn.functional as tfunc\n",
    "\n",
    "from sklearn import metrics\n",
    "from sklearn.feature_extraction.text import TfidfVectorizer\n",
    "from sklearn.linear_model import LogisticRegression\n",
    "from sklearn.metrics import (accuracy_score, classification_report,\n",
    "                             confusion_matrix, precision_recall_fscore_support)\n",
    "from sklearn.model_selection import train_test_split\n",
    "from sklearn.naive_bayes import MultinomialNB\n",
    "\n",
    "from util_text_process import re_breakline, re_dates, re_hiperlinks, re_money, \\\n",
    "    re_negation, re_numbers, re_special_chars, re_whitespaces, ApplyRegex, \\\n",
    "        StemmingProcess, StopWordsRemoval\n",
    "\n",
    "from transformers import (AdamW, BertForSequenceClassification, BertTokenizer,\n",
    "                          DataCollatorWithPadding,\n",
    "                          get_linear_schedule_with_warmup)"
   ]
  },
  {
   "cell_type": "code",
   "execution_count": 11,
   "id": "fbbac720-a75a-4823-956b-41c36f2a2619",
   "metadata": {},
   "outputs": [
    {
     "name": "stdin",
     "output_type": "stream",
     "text": [
      "Enter dialect+driver:  postgresql\n",
      "Enter username:  postgres\n",
      "Enter password:  021818\n",
      "Enter host:  localhost\n",
      "Enter database:  postgres\n"
     ]
    }
   ],
   "source": [
    "\"\"\"\n",
    "-- Load Data --\n",
    "\"\"\"\n",
    "connection = db_connect()\n",
    "\n",
    "customer = pd.read_sql_table('customer', connection)\n",
    "geolocation = pd.read_sql_table('geolocation', connection)\n",
    "geolocation_state = pd.read_sql_table('geolocation_state', connection)\n",
    "order_item = pd.read_sql_table('order_item', connection)\n",
    "orders = pd.read_sql_table('orders', connection)\n",
    "product = pd.read_sql_table('product', connection)\n",
    "product_category = pd.read_sql_table('product_category', connection)\n",
    "review = pd.read_sql_table('review', connection)\n",
    "seller = pd.read_sql_table('seller', connection)"
   ]
  },
  {
   "cell_type": "code",
   "execution_count": 18,
   "id": "887ba8e8-ab90-44af-b315-6343916cd554",
   "metadata": {},
   "outputs": [],
   "source": [
    "\n",
    "review['review_score'] = review['review_score'].astype('int64').astype('category')\n",
    "\n",
    "sns.countplot(data = review, x='review_score')\n",
    "plt.xlabel('Review Score')"
   ]
  },
  {
   "cell_type": "code",
   "execution_count": 36,
   "id": "7a298c3f-a464-4baa-b9d2-5ecd28f49df8",
   "metadata": {},
   "outputs": [
    {
     "data": {
      "text/plain": [
       "Text(0.5, 0, 'Review Score')"
      ]
     },
     "execution_count": 36,
     "metadata": {},
     "output_type": "execute_result"
    },
    {
     "data": {
      "image/png": "[encoded data removed]",
      "text/plain": [
       "<Figure size 640x480 with 1 Axes>"
      ]
     },
     "metadata": {},
     "output_type": "display_data"
    }
   ],
   "source": []
  },
  {
   "cell_type": "code",
   "execution_count": null,
   "id": "8b52f511-173a-4809-94c2-51ab5a571351",
   "metadata": {},
   "outputs": [],
   "source": []
  }
 ],
 "metadata": {
  "kernelspec": {
   "display_name": "Python 3 (ipykernel)",
   "language": "python",
   "name": "python3"
  },
  "language_info": {
   "codemirror_mode": {
    "name": "ipython",
    "version": 3
   },
   "file_extension": ".py",
   "mimetype": "text/x-python",
   "name": "python",
   "nbconvert_exporter": "python",
   "pygments_lexer": "ipython3",
   "version": "3.8.8"
  }
 },
 "nbformat": 4,
 "nbformat_minor": 5
}
