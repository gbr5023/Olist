{
 "cells": [
  {
   "cell_type": "code",
   "execution_count": 26,
   "id": "3f6bb872-b515-42ad-b2ae-e8f23fa5b94c",
   "metadata": {},
   "outputs": [],
   "source": [
    "import logging\n",
    "import boto3\n",
    "from botocore.exceptions import ClientError\n",
    "import csv\n",
    "\n",
    "with open('C:\\\\Users\\\\gkcre\\\\Downloads\\\\gkredila_accessKeys.csv', newline='') as csvfile:\n",
    "    reader = csv.reader(csvfile, delimiter = ',') \n",
    "    # store the headers in a separate variable, \n",
    "    # move the reader object to point on the next row \n",
    "    headings = next(reader) \n",
    "    for row in reader:\n",
    "        AWS_ACCESS_KEY_ID = row[0] #It's in the file you saved in the previous step. Put it here in the string format. \n",
    "        AWS_SECRET_ACCESS_KEY = row[1] #It's in the file you saved in the previous step. Put it here in the string format."
   ]
  },
  {
   "cell_type": "code",
   "execution_count": 18,
   "id": "fcf71ebf-6107-4cf9-b809-4aa7a7caec51",
   "metadata": {},
   "outputs": [
    {
     "data": {
      "text/plain": [
       "{'ResponseMetadata': {'RequestId': 'S29KC72J7PNXJPM9',\n",
       "  'HostId': 'XRc/iz1W1bdX4CTmxt+bt157kLK0hfWhUhQDfEyDRtu1Gsf7yZZophF6aXg1IVbJNhS/QLhfPio=',\n",
       "  'HTTPStatusCode': 200,\n",
       "  'HTTPHeaders': {'x-amz-id-2': 'XRc/iz1W1bdX4CTmxt+bt157kLK0hfWhUhQDfEyDRtu1Gsf7yZZophF6aXg1IVbJNhS/QLhfPio=',\n",
       "   'x-amz-request-id': 'S29KC72J7PNXJPM9',\n",
       "   'date': 'Fri, 26 Jul 2024 05:46:43 GMT',\n",
       "   'location': '/olist-gkr',\n",
       "   'server': 'AmazonS3',\n",
       "   'content-length': '0'},\n",
       "  'RetryAttempts': 0},\n",
       " 'Location': '/olist-gkr'}"
      ]
     },
     "execution_count": 18,
     "metadata": {},
     "output_type": "execute_result"
    }
   ],
   "source": [
    "s3_client = boto3.client('s3', region_name = 'us-east-1', #choose the region you want. Here, 'us-west-2' is an example.\n",
    "                    aws_access_key_id = AWS_ACCESS_KEY_ID,\n",
    "                    aws_secret_access_key = AWS_SECRET_ACCESS_KEY)\n",
    "\n",
    "#location = {'LocationConstraint': 'us-east-1'} \n",
    "\n",
    "s3_client.create_bucket(Bucket = 'olist-gkr') # Here is the name of the bucket you just created\n",
    "                                 "
   ]
  },
  {
   "cell_type": "code",
   "execution_count": 23,
   "id": "c92a4d0f-6552-4c05-aa42-6909ce3dbd0d",
   "metadata": {},
   "outputs": [],
   "source": [
    "file_name = 'HelloWorld.py'\n",
    "bucket_name = 'olist-gkr'\n",
    "object_name = file_name #You can set your own object name or keep it the same as the original file name on the local machine.\n",
    "\n",
    "with open(file_name, 'rb') as f:\n",
    "    s3_client.upload_fileobj(f, bucket_name, object_name)"
   ]
  },
  {
   "cell_type": "code",
   "execution_count": 30,
   "id": "f6e32c2c-002a-46e1-a710-50a0a7a4979e",
   "metadata": {},
   "outputs": [
    {
     "ename": "SyntaxError",
     "evalue": "invalid decimal literal (1500128036.py, line 1)",
     "output_type": "error",
     "traceback": [
      "\u001b[1;36m  Cell \u001b[1;32mIn[30], line 1\u001b[1;36m\u001b[0m\n\u001b[1;33m    ssh -i ~/.ssh/gr_kp.pem ec2-54-86-5-141.compute-1.amazonaws.com\u001b[0m\n\u001b[1;37m                                           ^\u001b[0m\n\u001b[1;31mSyntaxError\u001b[0m\u001b[1;31m:\u001b[0m invalid decimal literal\n"
     ]
    }
   ],
   "source": [
    "ssh -i ~/.ssh/gr_kp.pem ec2-54-86-5-141.compute-1.amazonaws.com"
   ]
  },
  {
   "cell_type": "code",
   "execution_count": 32,
   "id": "d4c66ec8-8218-4c75-bce8-aaca85e53f7b",
   "metadata": {},
   "outputs": [
    {
     "ename": "SyntaxError",
     "evalue": "invalid decimal literal (4115726693.py, line 1)",
     "output_type": "error",
     "traceback": [
      "\u001b[1;36m  Cell \u001b[1;32mIn[32], line 1\u001b[1;36m\u001b[0m\n\u001b[1;33m    ssh -i \"gr_kp.pem\" ec2-user@ec2-54-86-5-141.compute-1.amazonaws.com\u001b[0m\n\u001b[1;37m                                               ^\u001b[0m\n\u001b[1;31mSyntaxError\u001b[0m\u001b[1;31m:\u001b[0m invalid decimal literal\n"
     ]
    }
   ],
   "source": [
    "ssh -i \"gr_kp.pem\" ec2-user@ec2-54-86-5-141.compute-1.amazonaws.com"
   ]
  },
  {
   "cell_type": "code",
   "execution_count": 34,
   "id": "59088771-6670-471c-ab52-673248ad9b2a",
   "metadata": {},
   "outputs": [
    {
     "ename": "SyntaxError",
     "evalue": "invalid decimal literal (524142281.py, line 1)",
     "output_type": "error",
     "traceback": [
      "\u001b[1;36m  Cell \u001b[1;32mIn[34], line 1\u001b[1;36m\u001b[0m\n\u001b[1;33m    ssh -i ~/.ssh/ggr_kp.pem ec2-user@ec2-54-86-5-141.compute-1.amazonaws.com\u001b[0m\n\u001b[1;37m                                                     ^\u001b[0m\n\u001b[1;31mSyntaxError\u001b[0m\u001b[1;31m:\u001b[0m invalid decimal literal\n"
     ]
    }
   ],
   "source": [
    "ssh -i ~/.ssh/gr_kp.pem ec2-user@ec2-54-86-5-141.compute-1.amazonaws.com"
   ]
  },
  {
   "cell_type": "code",
   "execution_count": null,
   "id": "634e5b74-cd3f-4d73-8af1-b13ab596b6d9",
   "metadata": {},
   "outputs": [],
   "source": []
  }
 ],
 "metadata": {
  "kernelspec": {
   "display_name": "Python 3 (ipykernel)",
   "language": "python",
   "name": "python3"
  },
  "language_info": {
   "codemirror_mode": {
    "name": "ipython",
    "version": 3
   },
   "file_extension": ".py",
   "mimetype": "text/x-python",
   "name": "python",
   "nbconvert_exporter": "python",
   "pygments_lexer": "ipython3",
   "version": "3.12.4"
  }
 },
 "nbformat": 4,
 "nbformat_minor": 5
}
